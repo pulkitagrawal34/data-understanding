{
 "cells": [
  {
   "cell_type": "code",
   "execution_count": 1,
   "metadata": {},
   "outputs": [],
   "source": [
    "import os\n",
    "os.getcwd()"
   ]
  },
  {
   "cell_type": "code",
   "execution_count": 2,
   "metadata": {},
   "outputs": [],
   "source": [
    "os.chdir('/Users/pulkit/Desktop')"
   ]
  },
  {
   "cell_type": "code",
   "execution_count": 3,
   "metadata": {},
   "outputs": [],
   "source": [
    "import numpy as np\n",
    "import pandas as pd\n",
    "import matplotlib.pyplot as plt\n",
    "%matplotlib inline\n",
    "import seaborn as sns"
   ]
  },
  {
   "cell_type": "code",
   "execution_count": 4,
   "metadata": {},
   "outputs": [
    {
     "data": {
      "text/plain": [
       "'Converting the given data in .txt format to a pandas DataFrame'"
      ]
     },
     "execution_count": 4,
     "metadata": {},
     "output_type": "execute_result"
    }
   ],
   "source": [
    "\"\"\"Converting the given data in .txt format to a pandas DataFrame\"\"\""
   ]
  },
  {
   "cell_type": "code",
   "execution_count": 5,
   "metadata": {},
   "outputs": [
    {
     "data": {
      "text/html": [
       "<div>\n",
       "<style scoped>\n",
       "    .dataframe tbody tr th:only-of-type {\n",
       "        vertical-align: middle;\n",
       "    }\n",
       "\n",
       "    .dataframe tbody tr th {\n",
       "        vertical-align: top;\n",
       "    }\n",
       "\n",
       "    .dataframe thead th {\n",
       "        text-align: right;\n",
       "    }\n",
       "</style>\n",
       "<table border=\"1\" class=\"dataframe\">\n",
       "  <thead>\n",
       "    <tr style=\"text-align: right;\">\n",
       "      <th></th>\n",
       "      <th>F1</th>\n",
       "      <th>F2</th>\n",
       "      <th>F3</th>\n",
       "      <th>F4</th>\n",
       "      <th>F5</th>\n",
       "      <th>F6</th>\n",
       "      <th>F7</th>\n",
       "      <th>F8</th>\n",
       "      <th>F9</th>\n",
       "      <th>F10</th>\n",
       "      <th>...</th>\n",
       "      <th>F14</th>\n",
       "      <th>F15</th>\n",
       "      <th>F16</th>\n",
       "      <th>F17</th>\n",
       "      <th>F18</th>\n",
       "      <th>F19</th>\n",
       "      <th>F20</th>\n",
       "      <th>F21</th>\n",
       "      <th>F22</th>\n",
       "      <th>C</th>\n",
       "    </tr>\n",
       "  </thead>\n",
       "  <tbody>\n",
       "    <tr>\n",
       "      <th>0</th>\n",
       "      <td>0.224505886</td>\n",
       "      <td>0.500339823</td>\n",
       "      <td>0.489860281</td>\n",
       "      <td>0.902412719</td>\n",
       "      <td>7934</td>\n",
       "      <td>-6970</td>\n",
       "      <td>-5714</td>\n",
       "      <td>9982</td>\n",
       "      <td>-5697</td>\n",
       "      <td>4227810299</td>\n",
       "      <td>...</td>\n",
       "      <td>-3433637453</td>\n",
       "      <td>10/4/1986</td>\n",
       "      <td>9/6/1992</td>\n",
       "      <td>2</td>\n",
       "      <td>1</td>\n",
       "      <td>706</td>\n",
       "      <td>305</td>\n",
       "      <td>1</td>\n",
       "      <td>2</td>\n",
       "      <td>0</td>\n",
       "    </tr>\n",
       "    <tr>\n",
       "      <th>1</th>\n",
       "      <td>0.321128312</td>\n",
       "      <td>0.281118753</td>\n",
       "      <td>0.907282976</td>\n",
       "      <td>0.772158566</td>\n",
       "      <td>-8238</td>\n",
       "      <td>1219</td>\n",
       "      <td>1663</td>\n",
       "      <td>1287</td>\n",
       "      <td>-3658</td>\n",
       "      <td>-1146724819</td>\n",
       "      <td>...</td>\n",
       "      <td>609277486</td>\n",
       "      <td>2/24/1979</td>\n",
       "      <td>1/5/1983</td>\n",
       "      <td>1</td>\n",
       "      <td>1</td>\n",
       "      <td>423</td>\n",
       "      <td>206</td>\n",
       "      <td>18</td>\n",
       "      <td>7</td>\n",
       "      <td>1</td>\n",
       "    </tr>\n",
       "    <tr>\n",
       "      <th>2</th>\n",
       "      <td>0.893440767</td>\n",
       "      <td>0.622005443</td>\n",
       "      <td>0.998775822</td>\n",
       "      <td>0.098386253</td>\n",
       "      <td>8540</td>\n",
       "      <td>5266</td>\n",
       "      <td>-9377</td>\n",
       "      <td>-3504</td>\n",
       "      <td>-4511</td>\n",
       "      <td>5947184989</td>\n",
       "      <td>...</td>\n",
       "      <td>-8977995005</td>\n",
       "      <td>1/12/1989</td>\n",
       "      <td>11/22/1986</td>\n",
       "      <td>2</td>\n",
       "      <td>1</td>\n",
       "      <td>703</td>\n",
       "      <td>315</td>\n",
       "      <td>1</td>\n",
       "      <td>4</td>\n",
       "      <td>0</td>\n",
       "    </tr>\n",
       "    <tr>\n",
       "      <th>3</th>\n",
       "      <td>0.320640946</td>\n",
       "      <td>0.957234037</td>\n",
       "      <td>0.346000222</td>\n",
       "      <td>0.646478689</td>\n",
       "      <td>-7772</td>\n",
       "      <td>-383</td>\n",
       "      <td>9681</td>\n",
       "      <td>-8661</td>\n",
       "      <td>3474</td>\n",
       "      <td>-5724795826</td>\n",
       "      <td>...</td>\n",
       "      <td>4868760308</td>\n",
       "      <td>2/18/1982</td>\n",
       "      <td>6/10/1992</td>\n",
       "      <td>1</td>\n",
       "      <td>1</td>\n",
       "      <td>122</td>\n",
       "      <td>304</td>\n",
       "      <td>15</td>\n",
       "      <td>1</td>\n",
       "      <td>0</td>\n",
       "    </tr>\n",
       "    <tr>\n",
       "      <th>4</th>\n",
       "      <td>0.475961263</td>\n",
       "      <td>0.623008485</td>\n",
       "      <td>0.544988288</td>\n",
       "      <td>0.159708695</td>\n",
       "      <td>1571</td>\n",
       "      <td>-8039</td>\n",
       "      <td>-7961</td>\n",
       "      <td>-2385</td>\n",
       "      <td>4407</td>\n",
       "      <td>-3097637172</td>\n",
       "      <td>...</td>\n",
       "      <td>9757408267</td>\n",
       "      <td>4/10/1987</td>\n",
       "      <td>10/19/1985</td>\n",
       "      <td>1</td>\n",
       "      <td>1</td>\n",
       "      <td>486</td>\n",
       "      <td>240</td>\n",
       "      <td>1</td>\n",
       "      <td>1</td>\n",
       "      <td>0</td>\n",
       "    </tr>\n",
       "  </tbody>\n",
       "</table>\n",
       "<p>5 rows × 23 columns</p>\n",
       "</div>"
      ],
      "text/plain": [
       "0           F1           F2           F3           F4     F5     F6     F7  \\\n",
       "0  0.224505886  0.500339823  0.489860281  0.902412719   7934  -6970  -5714   \n",
       "1  0.321128312  0.281118753  0.907282976  0.772158566  -8238   1219   1663   \n",
       "2  0.893440767  0.622005443  0.998775822  0.098386253   8540   5266  -9377   \n",
       "3  0.320640946  0.957234037  0.346000222  0.646478689  -7772   -383   9681   \n",
       "4  0.475961263  0.623008485  0.544988288  0.159708695   1571  -8039  -7961   \n",
       "\n",
       "0     F8     F9          F10 ...          F14        F15         F16 F17 F18  \\\n",
       "0   9982  -5697   4227810299 ...  -3433637453  10/4/1986    9/6/1992   2   1   \n",
       "1   1287  -3658  -1146724819 ...    609277486  2/24/1979    1/5/1983   1   1   \n",
       "2  -3504  -4511   5947184989 ...  -8977995005  1/12/1989  11/22/1986   2   1   \n",
       "3  -8661   3474  -5724795826 ...   4868760308  2/18/1982   6/10/1992   1   1   \n",
       "4  -2385   4407  -3097637172 ...   9757408267  4/10/1987  10/19/1985   1   1   \n",
       "\n",
       "0  F19  F20 F21 F22  C  \n",
       "0  706  305   1   2  0  \n",
       "1  423  206  18   7  1  \n",
       "2  703  315   1   4  0  \n",
       "3  122  304  15   1  0  \n",
       "4  486  240   1   1  0  \n",
       "\n",
       "[5 rows x 23 columns]"
      ]
     },
     "execution_count": 5,
     "metadata": {},
     "output_type": "execute_result"
    }
   ],
   "source": [
    "data= open(\"ClassificationProblem1.txt\", \"r\")\n",
    "lines= data.readlines()\n",
    "\n",
    "\n",
    "data_list = []\n",
    "\n",
    "for line in lines:\n",
    "    each_line= line.strip().split('\\t')\n",
    "    data_list.append(each_line)\n",
    "\n",
    "df= pd.DataFrame(data_list)\n",
    "df.columns= df.iloc[0]\n",
    "df.drop(0, axis=0, inplace= True)\n",
    "df.drop(['Index'], axis=1, inplace= True)\n",
    "df= df.reset_index(drop= True)\n",
    "df.head()"
   ]
  },
  {
   "cell_type": "code",
   "execution_count": 6,
   "metadata": {},
   "outputs": [
    {
     "data": {
      "text/plain": [
       "'Checking Datatypes'"
      ]
     },
     "execution_count": 6,
     "metadata": {},
     "output_type": "execute_result"
    }
   ],
   "source": [
    "\"\"\"Checking Datatypes\"\"\""
   ]
  },
  {
   "cell_type": "code",
   "execution_count": 7,
   "metadata": {},
   "outputs": [
    {
     "data": {
      "text/plain": [
       "0\n",
       "F1     object\n",
       "F2     object\n",
       "F3     object\n",
       "F4     object\n",
       "F5     object\n",
       "F6     object\n",
       "F7     object\n",
       "F8     object\n",
       "F9     object\n",
       "F10    object\n",
       "F11    object\n",
       "F12    object\n",
       "F13    object\n",
       "F14    object\n",
       "F15    object\n",
       "F16    object\n",
       "F17    object\n",
       "F18    object\n",
       "F19    object\n",
       "F20    object\n",
       "F21    object\n",
       "F22    object\n",
       "C      object\n",
       "dtype: object"
      ]
     },
     "execution_count": 7,
     "metadata": {},
     "output_type": "execute_result"
    }
   ],
   "source": [
    "df.dtypes"
   ]
  },
  {
   "cell_type": "code",
   "execution_count": 8,
   "metadata": {},
   "outputs": [
    {
     "data": {
      "text/html": [
       "<div>\n",
       "<style scoped>\n",
       "    .dataframe tbody tr th:only-of-type {\n",
       "        vertical-align: middle;\n",
       "    }\n",
       "\n",
       "    .dataframe tbody tr th {\n",
       "        vertical-align: top;\n",
       "    }\n",
       "\n",
       "    .dataframe thead th {\n",
       "        text-align: right;\n",
       "    }\n",
       "</style>\n",
       "<table border=\"1\" class=\"dataframe\">\n",
       "  <thead>\n",
       "    <tr style=\"text-align: right;\">\n",
       "      <th></th>\n",
       "      <th>F1</th>\n",
       "      <th>F2</th>\n",
       "      <th>F3</th>\n",
       "      <th>F4</th>\n",
       "      <th>F5</th>\n",
       "      <th>F6</th>\n",
       "      <th>F7</th>\n",
       "      <th>F8</th>\n",
       "      <th>F9</th>\n",
       "      <th>F10</th>\n",
       "      <th>...</th>\n",
       "      <th>F14</th>\n",
       "      <th>F15</th>\n",
       "      <th>F16</th>\n",
       "      <th>F17</th>\n",
       "      <th>F18</th>\n",
       "      <th>F19</th>\n",
       "      <th>F20</th>\n",
       "      <th>F21</th>\n",
       "      <th>F22</th>\n",
       "      <th>C</th>\n",
       "    </tr>\n",
       "  </thead>\n",
       "  <tbody>\n",
       "    <tr>\n",
       "      <th>count</th>\n",
       "      <td>101180</td>\n",
       "      <td>101180</td>\n",
       "      <td>101180</td>\n",
       "      <td>101180</td>\n",
       "      <td>101180</td>\n",
       "      <td>101180</td>\n",
       "      <td>101180</td>\n",
       "      <td>101180</td>\n",
       "      <td>101180</td>\n",
       "      <td>101180</td>\n",
       "      <td>...</td>\n",
       "      <td>101180</td>\n",
       "      <td>101180</td>\n",
       "      <td>101180</td>\n",
       "      <td>101180</td>\n",
       "      <td>101180</td>\n",
       "      <td>101180</td>\n",
       "      <td>101180</td>\n",
       "      <td>101180</td>\n",
       "      <td>101180</td>\n",
       "      <td>101180</td>\n",
       "    </tr>\n",
       "    <tr>\n",
       "      <th>unique</th>\n",
       "      <td>101176</td>\n",
       "      <td>101169</td>\n",
       "      <td>101179</td>\n",
       "      <td>101178</td>\n",
       "      <td>19876</td>\n",
       "      <td>19862</td>\n",
       "      <td>19865</td>\n",
       "      <td>19866</td>\n",
       "      <td>19887</td>\n",
       "      <td>101179</td>\n",
       "      <td>...</td>\n",
       "      <td>101180</td>\n",
       "      <td>8031</td>\n",
       "      <td>6300</td>\n",
       "      <td>5</td>\n",
       "      <td>5</td>\n",
       "      <td>646</td>\n",
       "      <td>646</td>\n",
       "      <td>21</td>\n",
       "      <td>21</td>\n",
       "      <td>2</td>\n",
       "    </tr>\n",
       "    <tr>\n",
       "      <th>top</th>\n",
       "      <td>0.103739797</td>\n",
       "      <td>0.316979021</td>\n",
       "      <td>0.416845501</td>\n",
       "      <td>0.635587618</td>\n",
       "      <td>2981</td>\n",
       "      <td>4490</td>\n",
       "      <td>-4464</td>\n",
       "      <td>3415</td>\n",
       "      <td>34</td>\n",
       "      <td>-375879123</td>\n",
       "      <td>...</td>\n",
       "      <td>-4057074274</td>\n",
       "      <td>3/13/1985</td>\n",
       "      <td>1/13/1991</td>\n",
       "      <td>1</td>\n",
       "      <td>1</td>\n",
       "      <td>901</td>\n",
       "      <td>901</td>\n",
       "      <td>1</td>\n",
       "      <td>1</td>\n",
       "      <td>0</td>\n",
       "    </tr>\n",
       "    <tr>\n",
       "      <th>freq</th>\n",
       "      <td>2</td>\n",
       "      <td>2</td>\n",
       "      <td>2</td>\n",
       "      <td>2</td>\n",
       "      <td>17</td>\n",
       "      <td>17</td>\n",
       "      <td>18</td>\n",
       "      <td>16</td>\n",
       "      <td>15</td>\n",
       "      <td>2</td>\n",
       "      <td>...</td>\n",
       "      <td>1</td>\n",
       "      <td>46</td>\n",
       "      <td>55</td>\n",
       "      <td>81320</td>\n",
       "      <td>81432</td>\n",
       "      <td>2139</td>\n",
       "      <td>2029</td>\n",
       "      <td>41565</td>\n",
       "      <td>41408</td>\n",
       "      <td>76353</td>\n",
       "    </tr>\n",
       "  </tbody>\n",
       "</table>\n",
       "<p>4 rows × 23 columns</p>\n",
       "</div>"
      ],
      "text/plain": [
       "0                F1           F2           F3           F4      F5      F6  \\\n",
       "count        101180       101180       101180       101180  101180  101180   \n",
       "unique       101176       101169       101179       101178   19876   19862   \n",
       "top     0.103739797  0.316979021  0.416845501  0.635587618    2981    4490   \n",
       "freq              2            2            2            2      17      17   \n",
       "\n",
       "0           F7      F8      F9         F10   ...            F14        F15  \\\n",
       "count   101180  101180  101180      101180   ...         101180     101180   \n",
       "unique   19865   19866   19887      101179   ...         101180       8031   \n",
       "top      -4464    3415      34  -375879123   ...    -4057074274  3/13/1985   \n",
       "freq        18      16      15           2   ...              1         46   \n",
       "\n",
       "0             F16     F17     F18     F19     F20     F21     F22       C  \n",
       "count      101180  101180  101180  101180  101180  101180  101180  101180  \n",
       "unique       6300       5       5     646     646      21      21       2  \n",
       "top     1/13/1991       1       1     901     901       1       1       0  \n",
       "freq           55   81320   81432    2139    2029   41565   41408   76353  \n",
       "\n",
       "[4 rows x 23 columns]"
      ]
     },
     "execution_count": 8,
     "metadata": {},
     "output_type": "execute_result"
    }
   ],
   "source": [
    "df.describe()"
   ]
  },
  {
   "cell_type": "code",
   "execution_count": 9,
   "metadata": {},
   "outputs": [
    {
     "data": {
      "text/plain": [
       "'Here although there are a lot of contineous varaiables, \\ntheir data type is object'"
      ]
     },
     "execution_count": 9,
     "metadata": {},
     "output_type": "execute_result"
    }
   ],
   "source": [
    "\"\"\"Here although there are a lot of contineous varaiables, \n",
    "their data type is object\"\"\""
   ]
  },
  {
   "cell_type": "code",
   "execution_count": 10,
   "metadata": {},
   "outputs": [],
   "source": [
    "\"\"\"Changind data types to float\"\"\"\n",
    "\n",
    "df[\"F1\"]= df[\"F1\"].astype(float)\n",
    "df[\"F2\"]= df[\"F2\"].astype(float)\n",
    "df[\"F3\"]= df[\"F3\"].astype(float)\n",
    "df[\"F4\"]= df[\"F4\"].astype(float)\n",
    "df[\"F10\"]= df[\"F10\"].astype(float)\n",
    "df[\"F11\"]= df[\"F11\"].astype(float)\n",
    "df[\"F12\"]= df[\"F12\"].astype(float)\n",
    "df[\"F13\"]= df[\"F13\"].astype(float)\n",
    "df[\"F14\"]= df[\"F14\"].astype(float)\n"
   ]
  },
  {
   "cell_type": "code",
   "execution_count": 11,
   "metadata": {},
   "outputs": [],
   "source": [
    "'''   CONVERTING DATES TO STANDARD FORMAT   '''\n",
    "\n",
    "df['F15']= pd.to_datetime(df['F15'])\n",
    "df['F16']= pd.to_datetime(df['F16'])"
   ]
  },
  {
   "cell_type": "code",
   "execution_count": 12,
   "metadata": {},
   "outputs": [
    {
     "data": {
      "text/html": [
       "<div>\n",
       "<style scoped>\n",
       "    .dataframe tbody tr th:only-of-type {\n",
       "        vertical-align: middle;\n",
       "    }\n",
       "\n",
       "    .dataframe tbody tr th {\n",
       "        vertical-align: top;\n",
       "    }\n",
       "\n",
       "    .dataframe thead th {\n",
       "        text-align: right;\n",
       "    }\n",
       "</style>\n",
       "<table border=\"1\" class=\"dataframe\">\n",
       "  <thead>\n",
       "    <tr style=\"text-align: right;\">\n",
       "      <th></th>\n",
       "      <th>F1</th>\n",
       "      <th>F2</th>\n",
       "      <th>F3</th>\n",
       "      <th>F4</th>\n",
       "      <th>F10</th>\n",
       "      <th>F11</th>\n",
       "      <th>F12</th>\n",
       "      <th>F13</th>\n",
       "      <th>F14</th>\n",
       "    </tr>\n",
       "  </thead>\n",
       "  <tbody>\n",
       "    <tr>\n",
       "      <th>count</th>\n",
       "      <td>101180.000000</td>\n",
       "      <td>101180.000000</td>\n",
       "      <td>101180.000000</td>\n",
       "      <td>101180.000000</td>\n",
       "      <td>1.011800e+05</td>\n",
       "      <td>1.011800e+05</td>\n",
       "      <td>1.011800e+05</td>\n",
       "      <td>1.011800e+05</td>\n",
       "      <td>1.011800e+05</td>\n",
       "    </tr>\n",
       "    <tr>\n",
       "      <th>mean</th>\n",
       "      <td>0.502348</td>\n",
       "      <td>0.501497</td>\n",
       "      <td>0.499886</td>\n",
       "      <td>0.499839</td>\n",
       "      <td>1.869749e+07</td>\n",
       "      <td>-7.052456e+06</td>\n",
       "      <td>6.921685e+06</td>\n",
       "      <td>1.127538e+07</td>\n",
       "      <td>-5.198163e+07</td>\n",
       "    </tr>\n",
       "    <tr>\n",
       "      <th>std</th>\n",
       "      <td>0.288058</td>\n",
       "      <td>0.289017</td>\n",
       "      <td>0.288875</td>\n",
       "      <td>0.288729</td>\n",
       "      <td>5.769064e+09</td>\n",
       "      <td>5.779111e+09</td>\n",
       "      <td>5.771750e+09</td>\n",
       "      <td>5.786659e+09</td>\n",
       "      <td>5.782358e+09</td>\n",
       "    </tr>\n",
       "    <tr>\n",
       "      <th>min</th>\n",
       "      <td>0.000018</td>\n",
       "      <td>0.000004</td>\n",
       "      <td>0.000002</td>\n",
       "      <td>0.000006</td>\n",
       "      <td>-9.999816e+09</td>\n",
       "      <td>-9.999804e+09</td>\n",
       "      <td>-9.999754e+09</td>\n",
       "      <td>-9.999852e+09</td>\n",
       "      <td>-9.999767e+09</td>\n",
       "    </tr>\n",
       "    <tr>\n",
       "      <th>25%</th>\n",
       "      <td>0.253819</td>\n",
       "      <td>0.251115</td>\n",
       "      <td>0.248818</td>\n",
       "      <td>0.250501</td>\n",
       "      <td>-4.966961e+09</td>\n",
       "      <td>-4.994511e+09</td>\n",
       "      <td>-4.991278e+09</td>\n",
       "      <td>-5.027003e+09</td>\n",
       "      <td>-5.070403e+09</td>\n",
       "    </tr>\n",
       "    <tr>\n",
       "      <th>50%</th>\n",
       "      <td>0.501802</td>\n",
       "      <td>0.501095</td>\n",
       "      <td>0.499820</td>\n",
       "      <td>0.501387</td>\n",
       "      <td>4.346691e+07</td>\n",
       "      <td>-5.477172e+07</td>\n",
       "      <td>4.277384e+07</td>\n",
       "      <td>9.416236e+06</td>\n",
       "      <td>-8.816174e+07</td>\n",
       "    </tr>\n",
       "    <tr>\n",
       "      <th>75%</th>\n",
       "      <td>0.753598</td>\n",
       "      <td>0.752404</td>\n",
       "      <td>0.750281</td>\n",
       "      <td>0.748803</td>\n",
       "      <td>5.019440e+09</td>\n",
       "      <td>4.994296e+09</td>\n",
       "      <td>5.008238e+09</td>\n",
       "      <td>5.032947e+09</td>\n",
       "      <td>4.947133e+09</td>\n",
       "    </tr>\n",
       "    <tr>\n",
       "      <th>max</th>\n",
       "      <td>0.999986</td>\n",
       "      <td>0.999990</td>\n",
       "      <td>0.999985</td>\n",
       "      <td>0.999977</td>\n",
       "      <td>9.999497e+09</td>\n",
       "      <td>9.999897e+09</td>\n",
       "      <td>9.999555e+09</td>\n",
       "      <td>9.999951e+09</td>\n",
       "      <td>9.999997e+09</td>\n",
       "    </tr>\n",
       "  </tbody>\n",
       "</table>\n",
       "</div>"
      ],
      "text/plain": [
       "0                 F1             F2             F3             F4  \\\n",
       "count  101180.000000  101180.000000  101180.000000  101180.000000   \n",
       "mean        0.502348       0.501497       0.499886       0.499839   \n",
       "std         0.288058       0.289017       0.288875       0.288729   \n",
       "min         0.000018       0.000004       0.000002       0.000006   \n",
       "25%         0.253819       0.251115       0.248818       0.250501   \n",
       "50%         0.501802       0.501095       0.499820       0.501387   \n",
       "75%         0.753598       0.752404       0.750281       0.748803   \n",
       "max         0.999986       0.999990       0.999985       0.999977   \n",
       "\n",
       "0               F10           F11           F12           F13           F14  \n",
       "count  1.011800e+05  1.011800e+05  1.011800e+05  1.011800e+05  1.011800e+05  \n",
       "mean   1.869749e+07 -7.052456e+06  6.921685e+06  1.127538e+07 -5.198163e+07  \n",
       "std    5.769064e+09  5.779111e+09  5.771750e+09  5.786659e+09  5.782358e+09  \n",
       "min   -9.999816e+09 -9.999804e+09 -9.999754e+09 -9.999852e+09 -9.999767e+09  \n",
       "25%   -4.966961e+09 -4.994511e+09 -4.991278e+09 -5.027003e+09 -5.070403e+09  \n",
       "50%    4.346691e+07 -5.477172e+07  4.277384e+07  9.416236e+06 -8.816174e+07  \n",
       "75%    5.019440e+09  4.994296e+09  5.008238e+09  5.032947e+09  4.947133e+09  \n",
       "max    9.999497e+09  9.999897e+09  9.999555e+09  9.999951e+09  9.999997e+09  "
      ]
     },
     "execution_count": 12,
     "metadata": {},
     "output_type": "execute_result"
    }
   ],
   "source": [
    "df.describe()"
   ]
  },
  {
   "cell_type": "code",
   "execution_count": 13,
   "metadata": {},
   "outputs": [
    {
     "data": {
      "text/plain": [
       "(101180, 23)"
      ]
     },
     "execution_count": 13,
     "metadata": {},
     "output_type": "execute_result"
    }
   ],
   "source": [
    "df.shape"
   ]
  },
  {
   "cell_type": "code",
   "execution_count": 14,
   "metadata": {},
   "outputs": [
    {
     "data": {
      "text/plain": [
       "'Checking if there is any null value that needs to be treated'"
      ]
     },
     "execution_count": 14,
     "metadata": {},
     "output_type": "execute_result"
    }
   ],
   "source": [
    "\"\"\"Checking if there is any null value that needs to be treated\"\"\""
   ]
  },
  {
   "cell_type": "code",
   "execution_count": 15,
   "metadata": {},
   "outputs": [
    {
     "data": {
      "text/plain": [
       "0\n",
       "F1     0\n",
       "F2     0\n",
       "F3     0\n",
       "F4     0\n",
       "F5     0\n",
       "F6     0\n",
       "F7     0\n",
       "F8     0\n",
       "F9     0\n",
       "F10    0\n",
       "F11    0\n",
       "F12    0\n",
       "F13    0\n",
       "F14    0\n",
       "F15    0\n",
       "F16    0\n",
       "F17    0\n",
       "F18    0\n",
       "F19    0\n",
       "F20    0\n",
       "F21    0\n",
       "F22    0\n",
       "C      0\n",
       "dtype: int64"
      ]
     },
     "execution_count": 15,
     "metadata": {},
     "output_type": "execute_result"
    }
   ],
   "source": [
    "df.isnull().sum()"
   ]
  },
  {
   "cell_type": "code",
   "execution_count": 16,
   "metadata": {},
   "outputs": [
    {
     "data": {
      "text/plain": [
       "'Starting Analysis with target variable i.e purchase outcome of \\nproduct Y'"
      ]
     },
     "execution_count": 16,
     "metadata": {},
     "output_type": "execute_result"
    }
   ],
   "source": [
    "\"\"\"Starting Analysis with target variable i.e purchase outcome of \n",
    "product Y\"\"\""
   ]
  },
  {
   "cell_type": "code",
   "execution_count": 17,
   "metadata": {},
   "outputs": [
    {
     "data": {
      "text/plain": [
       "0    76353\n",
       "1    24827\n",
       "Name: C, dtype: int64"
      ]
     },
     "execution_count": 17,
     "metadata": {},
     "output_type": "execute_result"
    }
   ],
   "source": [
    "df['C'].value_counts()"
   ]
  },
  {
   "cell_type": "code",
   "execution_count": 18,
   "metadata": {},
   "outputs": [
    {
     "data": {
      "text/plain": [
       "0    0.754625\n",
       "1    0.245375\n",
       "Name: C, dtype: float64"
      ]
     },
     "execution_count": 18,
     "metadata": {},
     "output_type": "execute_result"
    }
   ],
   "source": [
    "df['C'].value_counts(normalize= True)"
   ]
  },
  {
   "cell_type": "code",
   "execution_count": 19,
   "metadata": {},
   "outputs": [
    {
     "data": {
      "text/plain": [
       "<matplotlib.axes._subplots.AxesSubplot at 0x1a20ba6c50>"
      ]
     },
     "execution_count": 19,
     "metadata": {},
     "output_type": "execute_result"
    },
    {
     "data": {
      "image/png": "[encoded data removed]",
      "text/plain": [
       "<Figure size 432x288 with 1 Axes>"
      ]
     },
     "metadata": {
      "needs_background": "light"
     },
     "output_type": "display_data"
    }
   ],
   "source": [
    "df['C'].value_counts().plot.bar(title = \"C\")"
   ]
  },
  {
   "cell_type": "code",
   "execution_count": 20,
   "metadata": {},
   "outputs": [
    {
     "data": {
      "text/plain": [
       "' This shows that around 25% of the population bought the product Y'"
      ]
     },
     "execution_count": 20,
     "metadata": {},
     "output_type": "execute_result"
    }
   ],
   "source": [
    "\"\"\" This shows that around 25% of the population bought the product Y\"\"\""
   ]
  },
  {
   "cell_type": "code",
   "execution_count": 21,
   "metadata": {},
   "outputs": [
    {
     "data": {
      "text/plain": [
       "'Independent variables(Categorical)'"
      ]
     },
     "execution_count": 21,
     "metadata": {},
     "output_type": "execute_result"
    }
   ],
   "source": [
    "\"\"\"Independent variables(Categorical)\"\"\""
   ]
  },
  {
   "cell_type": "code",
   "execution_count": 70,
   "metadata": {},
   "outputs": [
    {
     "data": {
      "image/png": "[encoded data removed]",
      "text/plain": [
       "<Figure size 1080x576 with 4 Axes>"
      ]
     },
     "metadata": {
      "needs_background": "light"
     },
     "output_type": "display_data"
    }
   ],
   "source": [
    "plt.figure() \n",
    "plt.subplot(221) \n",
    "df['F17'].value_counts(normalize=True).plot.bar(figsize=(15,8), title= 'F17') \n",
    "plt.subplot(222) \n",
    "df['F18'].value_counts(normalize=True).plot.bar(title= 'F18') \n",
    "plt.subplot(223) \n",
    "df['F21'].value_counts(normalize=True).plot.bar(title= 'F21') \n",
    "plt.subplot(224) \n",
    "df['F22'].value_counts(normalize=True).plot.bar(title= 'F22') \n",
    "plt.show()"
   ]
  },
  {
   "cell_type": "code",
   "execution_count": 23,
   "metadata": {},
   "outputs": [
    {
     "data": {
      "text/plain": [
       "'\\nHere we can see that: \\n\\n80% of the data in F17 belongs to 1st category\\n80% of the data in F18 belongs to 1st category\\n40% of the data in F21 belongs to 1st category\\n40% of the data in F22 belongs to 1st category\\n'"
      ]
     },
     "execution_count": 23,
     "metadata": {},
     "output_type": "execute_result"
    }
   ],
   "source": [
    "\"\"\"\n",
    "Here we can see that: \n",
    "\n",
    "80% of the data in F17 belongs to 1st category\n",
    "80% of the data in F18 belongs to 1st category\n",
    "40% of the data in F21 belongs to 1st category\n",
    "40% of the data in F22 belongs to 1st category\n",
    "\"\"\""
   ]
  },
  {
   "cell_type": "code",
   "execution_count": 24,
   "metadata": {},
   "outputs": [
    {
     "data": {
      "text/plain": [
       "' Independent Variables (Contineous) '"
      ]
     },
     "execution_count": 24,
     "metadata": {},
     "output_type": "execute_result"
    }
   ],
   "source": [
    "\"\"\" Independent Variables (Contineous) \"\"\""
   ]
  },
  {
   "cell_type": "code",
   "execution_count": 25,
   "metadata": {},
   "outputs": [
    {
     "name": "stderr",
     "output_type": "stream",
     "text": [
      "/anaconda3/lib/python3.7/site-packages/scipy/stats/stats.py:1713: FutureWarning: Using a non-tuple sequence for multidimensional indexing is deprecated; use `arr[tuple(seq)]` instead of `arr[seq]`. In the future this will be interpreted as an array index, `arr[np.array(seq)]`, which will result either in an error or a different result.\n",
      "  return np.add.reduce(sorted[indexer] * weights, axis=axis) / sumval\n"
     ]
    },
    {
     "data": {
      "image/png": "[encoded data removed]",
      "text/plain": [
       "<Figure size 1152x360 with 2 Axes>"
      ]
     },
     "metadata": {
      "needs_background": "light"
     },
     "output_type": "display_data"
    }
   ],
   "source": [
    "plt.figure() \n",
    "\n",
    "plt.subplot(121) \n",
    "sns.distplot(df['F1'])\n",
    "\n",
    "plt.subplot(122) \n",
    "df['F1'].plot.box(figsize=(16,5)) \n",
    "plt.show()"
   ]
  },
  {
   "cell_type": "code",
   "execution_count": 26,
   "metadata": {},
   "outputs": [
    {
     "name": "stderr",
     "output_type": "stream",
     "text": [
      "/anaconda3/lib/python3.7/site-packages/scipy/stats/stats.py:1713: FutureWarning: Using a non-tuple sequence for multidimensional indexing is deprecated; use `arr[tuple(seq)]` instead of `arr[seq]`. In the future this will be interpreted as an array index, `arr[np.array(seq)]`, which will result either in an error or a different result.\n",
      "  return np.add.reduce(sorted[indexer] * weights, axis=axis) / sumval\n"
     ]
    },
    {
     "data": {
      "image/png": "[encoded data removed]",
      "text/plain": [
       "<Figure size 1152x360 with 2 Axes>"
      ]
     },
     "metadata": {
      "needs_background": "light"
     },
     "output_type": "display_data"
    }
   ],
   "source": [
    "plt.figure() \n",
    "\n",
    "plt.subplot(121) \n",
    "sns.distplot(df['F2'])\n",
    "\n",
    "plt.subplot(122) \n",
    "df['F2'].plot.box(figsize=(16,5)) \n",
    "plt.show()"
   ]
  },
  {
   "cell_type": "code",
   "execution_count": 27,
   "metadata": {},
   "outputs": [
    {
     "name": "stderr",
     "output_type": "stream",
     "text": [
      "/anaconda3/lib/python3.7/site-packages/scipy/stats/stats.py:1713: FutureWarning: Using a non-tuple sequence for multidimensional indexing is deprecated; use `arr[tuple(seq)]` instead of `arr[seq]`. In the future this will be interpreted as an array index, `arr[np.array(seq)]`, which will result either in an error or a different result.\n",
      "  return np.add.reduce(sorted[indexer] * weights, axis=axis) / sumval\n"
     ]
    },
    {
     "data": {
      "image/png": "[encoded data removed]",
      "text/plain": [
       "<Figure size 1152x360 with 2 Axes>"
      ]
     },
     "metadata": {
      "needs_background": "light"
     },
     "output_type": "display_data"
    }
   ],
   "source": [
    "plt.figure() \n",
    "\n",
    "plt.subplot(121) \n",
    "sns.distplot(df['F3'])\n",
    "\n",
    "plt.subplot(122) \n",
    "df['F3'].plot.box(figsize=(16,5)) \n",
    "plt.show()"
   ]
  },
  {
   "cell_type": "code",
   "execution_count": 28,
   "metadata": {},
   "outputs": [
    {
     "name": "stderr",
     "output_type": "stream",
     "text": [
      "/anaconda3/lib/python3.7/site-packages/scipy/stats/stats.py:1713: FutureWarning: Using a non-tuple sequence for multidimensional indexing is deprecated; use `arr[tuple(seq)]` instead of `arr[seq]`. In the future this will be interpreted as an array index, `arr[np.array(seq)]`, which will result either in an error or a different result.\n",
      "  return np.add.reduce(sorted[indexer] * weights, axis=axis) / sumval\n"
     ]
    },
    {
     "data": {
      "image/png": "[encoded data removed]",
      "text/plain": [
       "<Figure size 1152x360 with 2 Axes>"
      ]
     },
     "metadata": {
      "needs_background": "light"
     },
     "output_type": "display_data"
    }
   ],
   "source": [
    "plt.figure() \n",
    "\n",
    "plt.subplot(121) \n",
    "sns.distplot(df['F4'])\n",
    "\n",
    "plt.subplot(122) \n",
    "df['F4'].plot.box(figsize=(16,5)) \n",
    "plt.show()"
   ]
  },
  {
   "cell_type": "code",
   "execution_count": 29,
   "metadata": {},
   "outputs": [
    {
     "name": "stderr",
     "output_type": "stream",
     "text": [
      "/anaconda3/lib/python3.7/site-packages/scipy/stats/stats.py:1713: FutureWarning: Using a non-tuple sequence for multidimensional indexing is deprecated; use `arr[tuple(seq)]` instead of `arr[seq]`. In the future this will be interpreted as an array index, `arr[np.array(seq)]`, which will result either in an error or a different result.\n",
      "  return np.add.reduce(sorted[indexer] * weights, axis=axis) / sumval\n"
     ]
    },
    {
     "data": {
      "image/png": "[encoded data removed]",
      "text/plain": [
       "<Figure size 1152x360 with 2 Axes>"
      ]
     },
     "metadata": {
      "needs_background": "light"
     },
     "output_type": "display_data"
    }
   ],
   "source": [
    "plt.figure() \n",
    "\n",
    "plt.subplot(121) \n",
    "sns.distplot(df['F10'])\n",
    "\n",
    "plt.subplot(122) \n",
    "df['F10'].plot.box(figsize=(16,5)) \n",
    "plt.show()"
   ]
  },
  {
   "cell_type": "code",
   "execution_count": 30,
   "metadata": {},
   "outputs": [
    {
     "name": "stderr",
     "output_type": "stream",
     "text": [
      "/anaconda3/lib/python3.7/site-packages/scipy/stats/stats.py:1713: FutureWarning: Using a non-tuple sequence for multidimensional indexing is deprecated; use `arr[tuple(seq)]` instead of `arr[seq]`. In the future this will be interpreted as an array index, `arr[np.array(seq)]`, which will result either in an error or a different result.\n",
      "  return np.add.reduce(sorted[indexer] * weights, axis=axis) / sumval\n"
     ]
    },
    {
     "data": {
      "image/png": "[encoded data removed]",
      "text/plain": [
       "<Figure size 1152x360 with 2 Axes>"
      ]
     },
     "metadata": {
      "needs_background": "light"
     },
     "output_type": "display_data"
    }
   ],
   "source": [
    "plt.figure() \n",
    "\n",
    "plt.subplot(121) \n",
    "sns.distplot(df['F11'])\n",
    "\n",
    "plt.subplot(122) \n",
    "df['F11'].plot.box(figsize=(16,5)) \n",
    "plt.show()"
   ]
  },
  {
   "cell_type": "code",
   "execution_count": 31,
   "metadata": {},
   "outputs": [
    {
     "name": "stderr",
     "output_type": "stream",
     "text": [
      "/anaconda3/lib/python3.7/site-packages/scipy/stats/stats.py:1713: FutureWarning: Using a non-tuple sequence for multidimensional indexing is deprecated; use `arr[tuple(seq)]` instead of `arr[seq]`. In the future this will be interpreted as an array index, `arr[np.array(seq)]`, which will result either in an error or a different result.\n",
      "  return np.add.reduce(sorted[indexer] * weights, axis=axis) / sumval\n"
     ]
    },
    {
     "data": {
      "image/png": "[encoded data removed]",
      "text/plain": [
       "<Figure size 1152x360 with 2 Axes>"
      ]
     },
     "metadata": {
      "needs_background": "light"
     },
     "output_type": "display_data"
    }
   ],
   "source": [
    "plt.figure() \n",
    "\n",
    "plt.subplot(121) \n",
    "sns.distplot(df['F12'])\n",
    "\n",
    "plt.subplot(122) \n",
    "df['F12'].plot.box(figsize=(16,5)) \n",
    "plt.show()"
   ]
  },
  {
   "cell_type": "code",
   "execution_count": 32,
   "metadata": {},
   "outputs": [
    {
     "name": "stderr",
     "output_type": "stream",
     "text": [
      "/anaconda3/lib/python3.7/site-packages/scipy/stats/stats.py:1713: FutureWarning: Using a non-tuple sequence for multidimensional indexing is deprecated; use `arr[tuple(seq)]` instead of `arr[seq]`. In the future this will be interpreted as an array index, `arr[np.array(seq)]`, which will result either in an error or a different result.\n",
      "  return np.add.reduce(sorted[indexer] * weights, axis=axis) / sumval\n"
     ]
    },
    {
     "data": {
      "image/png": "[encoded data removed]",
      "text/plain": [
       "<Figure size 1152x360 with 2 Axes>"
      ]
     },
     "metadata": {
      "needs_background": "light"
     },
     "output_type": "display_data"
    }
   ],
   "source": [
    "plt.figure() \n",
    "\n",
    "plt.subplot(121) \n",
    "sns.distplot(df['F13'])\n",
    "\n",
    "plt.subplot(122) \n",
    "df['F13'].plot.box(figsize=(16,5)) \n",
    "plt.show()"
   ]
  },
  {
   "cell_type": "code",
   "execution_count": 33,
   "metadata": {},
   "outputs": [
    {
     "name": "stderr",
     "output_type": "stream",
     "text": [
      "/anaconda3/lib/python3.7/site-packages/scipy/stats/stats.py:1713: FutureWarning: Using a non-tuple sequence for multidimensional indexing is deprecated; use `arr[tuple(seq)]` instead of `arr[seq]`. In the future this will be interpreted as an array index, `arr[np.array(seq)]`, which will result either in an error or a different result.\n",
      "  return np.add.reduce(sorted[indexer] * weights, axis=axis) / sumval\n"
     ]
    },
    {
     "data": {
      "image/png": "[encoded data removed]",
      "text/plain": [
       "<Figure size 1152x360 with 2 Axes>"
      ]
     },
     "metadata": {
      "needs_background": "light"
     },
     "output_type": "display_data"
    }
   ],
   "source": [
    "plt.figure() \n",
    "\n",
    "plt.subplot(121) \n",
    "sns.distplot(df['F14'])\n",
    "\n",
    "plt.subplot(122) \n",
    "df['F14'].plot.box(figsize=(16,5)) \n",
    "plt.show()"
   ]
  },
  {
   "cell_type": "code",
   "execution_count": 34,
   "metadata": {},
   "outputs": [
    {
     "data": {
      "text/plain": [
       "'There are no outliers in the contineous variable data. also, they are showing UNIFORM distribution\\nwith no skewedness. \\n'"
      ]
     },
     "execution_count": 34,
     "metadata": {},
     "output_type": "execute_result"
    }
   ],
   "source": [
    "\"\"\"There are no outliers in the contineous variable data. also, they are showing UNIFORM distribution\n",
    "with no skewedness. \n",
    "\"\"\""
   ]
  },
  {
   "cell_type": "code",
   "execution_count": 35,
   "metadata": {},
   "outputs": [
    {
     "data": {
      "text/plain": [
       "'categorical variables vs Target Variables'"
      ]
     },
     "execution_count": 35,
     "metadata": {},
     "output_type": "execute_result"
    }
   ],
   "source": [
    "\"\"\"categorical variables vs Target Variables\"\"\""
   ]
  },
  {
   "cell_type": "code",
   "execution_count": 36,
   "metadata": {},
   "outputs": [
    {
     "data": {
      "text/plain": [
       "<matplotlib.axes._subplots.AxesSubplot at 0x1a2c42f668>"
      ]
     },
     "execution_count": 36,
     "metadata": {},
     "output_type": "execute_result"
    },
    {
     "data": {
      "image/png": "[encoded data removed]",
      "text/plain": [
       "<Figure size 432x288 with 1 Axes>"
      ]
     },
     "metadata": {
      "needs_background": "light"
     },
     "output_type": "display_data"
    }
   ],
   "source": [
    "F17= pd.crosstab(df['F17'], df['C'])\n",
    "F17.div(F17.sum(1), axis=0).plot(kind='bar', stacked=True)"
   ]
  },
  {
   "cell_type": "code",
   "execution_count": 37,
   "metadata": {},
   "outputs": [
    {
     "data": {
      "text/plain": [
       "'It can be inferred that \\ncategory 1: 30% chances of buying \\ncategory 2 : 15%\\ncategory 3,4,6: almost same: 10%\\n'"
      ]
     },
     "execution_count": 37,
     "metadata": {},
     "output_type": "execute_result"
    }
   ],
   "source": [
    "\"\"\"It can be inferred that \n",
    "category 1: 30% chances of buying \n",
    "category 2 : 15%\n",
    "category 3,4,6: almost same: 10%\n",
    "\"\"\""
   ]
  },
  {
   "cell_type": "code",
   "execution_count": 38,
   "metadata": {},
   "outputs": [
    {
     "data": {
      "text/plain": [
       "\"let's try and combine categories with similar behaviour as new category and \\nanalyse the behaviour, also this would help us in reducing the dimensionality incase we use OneHotEncoding\""
      ]
     },
     "execution_count": 38,
     "metadata": {},
     "output_type": "execute_result"
    }
   ],
   "source": [
    "\"\"\"let's try and combine categories with similar behaviour as new category and \n",
    "analyse the behaviour, also this would help us in reducing the dimensionality incase we use OneHotEncoding\"\"\""
   ]
  },
  {
   "cell_type": "code",
   "execution_count": 39,
   "metadata": {},
   "outputs": [],
   "source": [
    "df['F17'].replace(\"3\",\"5\", inplace= True)\n",
    "df['F17'].replace(\"4\",\"5\", inplace= True)\n",
    "df['F17'].replace(\"6\",\"5\", inplace= True)"
   ]
  },
  {
   "cell_type": "code",
   "execution_count": 40,
   "metadata": {},
   "outputs": [
    {
     "data": {
      "text/plain": [
       "1    81320\n",
       "2    13536\n",
       "5     6324\n",
       "Name: F17, dtype: int64"
      ]
     },
     "execution_count": 40,
     "metadata": {},
     "output_type": "execute_result"
    }
   ],
   "source": [
    "df[\"F17\"].value_counts()"
   ]
  },
  {
   "cell_type": "code",
   "execution_count": 41,
   "metadata": {},
   "outputs": [
    {
     "data": {
      "text/plain": [
       "<matplotlib.axes._subplots.AxesSubplot at 0x1a2c7f33c8>"
      ]
     },
     "execution_count": 41,
     "metadata": {},
     "output_type": "execute_result"
    },
    {
     "data": {
      "image/png": "[encoded data removed]",
      "text/plain": [
       "<Figure size 432x288 with 1 Axes>"
      ]
     },
     "metadata": {
      "needs_background": "light"
     },
     "output_type": "display_data"
    }
   ],
   "source": [
    "F17= pd.crosstab(df['F17'], df['C'])\n",
    "F17.div(F17.sum(1), axis=0).plot(kind='bar', stacked=True)"
   ]
  },
  {
   "cell_type": "code",
   "execution_count": 42,
   "metadata": {},
   "outputs": [
    {
     "data": {
      "text/plain": [
       "<matplotlib.axes._subplots.AxesSubplot at 0x1a2b96b5c0>"
      ]
     },
     "execution_count": 42,
     "metadata": {},
     "output_type": "execute_result"
    },
    {
     "data": {
      "image/png": "[encoded data removed]",
      "text/plain": [
       "<Figure size 432x288 with 1 Axes>"
      ]
     },
     "metadata": {
      "needs_background": "light"
     },
     "output_type": "display_data"
    }
   ],
   "source": [
    "F18= pd.crosstab(df['F18'], df['C'])\n",
    "F18.div(F18.sum(1), axis=0).plot(kind='bar', stacked=True)"
   ]
  },
  {
   "cell_type": "code",
   "execution_count": 43,
   "metadata": {},
   "outputs": [
    {
     "data": {
      "text/plain": [
       "'Showing similar behaviour as F17, Hence similar transformation done'"
      ]
     },
     "execution_count": 43,
     "metadata": {},
     "output_type": "execute_result"
    }
   ],
   "source": [
    "\"\"\"Showing similar behaviour as F17, Hence similar transformation done\"\"\""
   ]
  },
  {
   "cell_type": "code",
   "execution_count": 44,
   "metadata": {},
   "outputs": [],
   "source": [
    "df['F18'].replace(\"3\",\"5\", inplace= True)\n",
    "df['F18'].replace(\"4\",\"5\", inplace= True)\n",
    "df['F18'].replace(\"6\",\"5\", inplace= True)"
   ]
  },
  {
   "cell_type": "code",
   "execution_count": 45,
   "metadata": {},
   "outputs": [
    {
     "data": {
      "text/plain": [
       "<matplotlib.axes._subplots.AxesSubplot at 0x1a2bc8d710>"
      ]
     },
     "execution_count": 45,
     "metadata": {},
     "output_type": "execute_result"
    },
    {
     "data": {
      "image/png": "[encoded data removed]",
      "text/plain": [
       "<Figure size 432x288 with 1 Axes>"
      ]
     },
     "metadata": {
      "needs_background": "light"
     },
     "output_type": "display_data"
    }
   ],
   "source": [
    "F18= pd.crosstab(df['F18'], df['C'])\n",
    "F18.div(F18.sum(1), axis=0).plot(kind='bar', stacked=True)"
   ]
  },
  {
   "cell_type": "code",
   "execution_count": 46,
   "metadata": {},
   "outputs": [
    {
     "data": {
      "text/plain": [
       "<matplotlib.axes._subplots.AxesSubplot at 0x1a2bebc668>"
      ]
     },
     "execution_count": 46,
     "metadata": {},
     "output_type": "execute_result"
    },
    {
     "data": {
      "image/png": "[encoded data removed]",
      "text/plain": [
       "<Figure size 432x288 with 1 Axes>"
      ]
     },
     "metadata": {
      "needs_background": "light"
     },
     "output_type": "display_data"
    }
   ],
   "source": [
    "F21= pd.crosstab(df['F21'], df['C'])\n",
    "F21.div(F21.sum(1), axis=0).plot(kind='bar', stacked=True)"
   ]
  },
  {
   "cell_type": "code",
   "execution_count": 47,
   "metadata": {},
   "outputs": [],
   "source": [
    "F21[\"sum\"]= F21[\"0\"] + F21[\"1\"]\n",
    "F21[\"pct_conversion\"]= F21[\"1\"]/F21[\"sum\"]"
   ]
  },
  {
   "cell_type": "code",
   "execution_count": 48,
   "metadata": {},
   "outputs": [
    {
     "data": {
      "text/html": [
       "<div>\n",
       "<style scoped>\n",
       "    .dataframe tbody tr th:only-of-type {\n",
       "        vertical-align: middle;\n",
       "    }\n",
       "\n",
       "    .dataframe tbody tr th {\n",
       "        vertical-align: top;\n",
       "    }\n",
       "\n",
       "    .dataframe thead th {\n",
       "        text-align: right;\n",
       "    }\n",
       "</style>\n",
       "<table border=\"1\" class=\"dataframe\">\n",
       "  <thead>\n",
       "    <tr style=\"text-align: right;\">\n",
       "      <th>C</th>\n",
       "      <th>0</th>\n",
       "      <th>1</th>\n",
       "      <th>sum</th>\n",
       "      <th>pct_conversion</th>\n",
       "    </tr>\n",
       "    <tr>\n",
       "      <th>F21</th>\n",
       "      <th></th>\n",
       "      <th></th>\n",
       "      <th></th>\n",
       "      <th></th>\n",
       "    </tr>\n",
       "  </thead>\n",
       "  <tbody>\n",
       "    <tr>\n",
       "      <th>1</th>\n",
       "      <td>30796</td>\n",
       "      <td>10769</td>\n",
       "      <td>41565</td>\n",
       "      <td>0.259088</td>\n",
       "    </tr>\n",
       "    <tr>\n",
       "      <th>10</th>\n",
       "      <td>2439</td>\n",
       "      <td>822</td>\n",
       "      <td>3261</td>\n",
       "      <td>0.252070</td>\n",
       "    </tr>\n",
       "    <tr>\n",
       "      <th>11</th>\n",
       "      <td>2196</td>\n",
       "      <td>639</td>\n",
       "      <td>2835</td>\n",
       "      <td>0.225397</td>\n",
       "    </tr>\n",
       "    <tr>\n",
       "      <th>12</th>\n",
       "      <td>970</td>\n",
       "      <td>315</td>\n",
       "      <td>1285</td>\n",
       "      <td>0.245136</td>\n",
       "    </tr>\n",
       "    <tr>\n",
       "      <th>13</th>\n",
       "      <td>919</td>\n",
       "      <td>305</td>\n",
       "      <td>1224</td>\n",
       "      <td>0.249183</td>\n",
       "    </tr>\n",
       "    <tr>\n",
       "      <th>14</th>\n",
       "      <td>710</td>\n",
       "      <td>200</td>\n",
       "      <td>910</td>\n",
       "      <td>0.219780</td>\n",
       "    </tr>\n",
       "    <tr>\n",
       "      <th>15</th>\n",
       "      <td>490</td>\n",
       "      <td>160</td>\n",
       "      <td>650</td>\n",
       "      <td>0.246154</td>\n",
       "    </tr>\n",
       "    <tr>\n",
       "      <th>16</th>\n",
       "      <td>405</td>\n",
       "      <td>133</td>\n",
       "      <td>538</td>\n",
       "      <td>0.247212</td>\n",
       "    </tr>\n",
       "    <tr>\n",
       "      <th>17</th>\n",
       "      <td>256</td>\n",
       "      <td>63</td>\n",
       "      <td>319</td>\n",
       "      <td>0.197492</td>\n",
       "    </tr>\n",
       "    <tr>\n",
       "      <th>18</th>\n",
       "      <td>202</td>\n",
       "      <td>64</td>\n",
       "      <td>266</td>\n",
       "      <td>0.240602</td>\n",
       "    </tr>\n",
       "    <tr>\n",
       "      <th>19</th>\n",
       "      <td>203</td>\n",
       "      <td>46</td>\n",
       "      <td>249</td>\n",
       "      <td>0.184739</td>\n",
       "    </tr>\n",
       "    <tr>\n",
       "      <th>2</th>\n",
       "      <td>6224</td>\n",
       "      <td>1933</td>\n",
       "      <td>8157</td>\n",
       "      <td>0.236974</td>\n",
       "    </tr>\n",
       "    <tr>\n",
       "      <th>20</th>\n",
       "      <td>189</td>\n",
       "      <td>53</td>\n",
       "      <td>242</td>\n",
       "      <td>0.219008</td>\n",
       "    </tr>\n",
       "    <tr>\n",
       "      <th>21</th>\n",
       "      <td>2183</td>\n",
       "      <td>624</td>\n",
       "      <td>2807</td>\n",
       "      <td>0.222301</td>\n",
       "    </tr>\n",
       "    <tr>\n",
       "      <th>3</th>\n",
       "      <td>5534</td>\n",
       "      <td>1695</td>\n",
       "      <td>7229</td>\n",
       "      <td>0.234472</td>\n",
       "    </tr>\n",
       "    <tr>\n",
       "      <th>4</th>\n",
       "      <td>5294</td>\n",
       "      <td>1728</td>\n",
       "      <td>7022</td>\n",
       "      <td>0.246084</td>\n",
       "    </tr>\n",
       "    <tr>\n",
       "      <th>5</th>\n",
       "      <td>4545</td>\n",
       "      <td>1367</td>\n",
       "      <td>5912</td>\n",
       "      <td>0.231225</td>\n",
       "    </tr>\n",
       "    <tr>\n",
       "      <th>6</th>\n",
       "      <td>3948</td>\n",
       "      <td>1190</td>\n",
       "      <td>5138</td>\n",
       "      <td>0.231608</td>\n",
       "    </tr>\n",
       "    <tr>\n",
       "      <th>7</th>\n",
       "      <td>3468</td>\n",
       "      <td>1080</td>\n",
       "      <td>4548</td>\n",
       "      <td>0.237467</td>\n",
       "    </tr>\n",
       "    <tr>\n",
       "      <th>8</th>\n",
       "      <td>2904</td>\n",
       "      <td>918</td>\n",
       "      <td>3822</td>\n",
       "      <td>0.240188</td>\n",
       "    </tr>\n",
       "    <tr>\n",
       "      <th>9</th>\n",
       "      <td>2478</td>\n",
       "      <td>723</td>\n",
       "      <td>3201</td>\n",
       "      <td>0.225867</td>\n",
       "    </tr>\n",
       "  </tbody>\n",
       "</table>\n",
       "</div>"
      ],
      "text/plain": [
       "C        0      1    sum  pct_conversion\n",
       "F21                                     \n",
       "1    30796  10769  41565        0.259088\n",
       "10    2439    822   3261        0.252070\n",
       "11    2196    639   2835        0.225397\n",
       "12     970    315   1285        0.245136\n",
       "13     919    305   1224        0.249183\n",
       "14     710    200    910        0.219780\n",
       "15     490    160    650        0.246154\n",
       "16     405    133    538        0.247212\n",
       "17     256     63    319        0.197492\n",
       "18     202     64    266        0.240602\n",
       "19     203     46    249        0.184739\n",
       "2     6224   1933   8157        0.236974\n",
       "20     189     53    242        0.219008\n",
       "21    2183    624   2807        0.222301\n",
       "3     5534   1695   7229        0.234472\n",
       "4     5294   1728   7022        0.246084\n",
       "5     4545   1367   5912        0.231225\n",
       "6     3948   1190   5138        0.231608\n",
       "7     3468   1080   4548        0.237467\n",
       "8     2904    918   3822        0.240188\n",
       "9     2478    723   3201        0.225867"
      ]
     },
     "execution_count": 48,
     "metadata": {},
     "output_type": "execute_result"
    }
   ],
   "source": [
    "F21"
   ]
  },
  {
   "cell_type": "code",
   "execution_count": 49,
   "metadata": {},
   "outputs": [
    {
     "data": {
      "text/plain": [
       "'Here we can see that irrespective of the category they have almost \\nequal chances of buying the product Y i.e between 75% to 80%. \\n\\nWe can sub-categorise them to reduce the number of categories but there \\nare less chances that this will affect the chances of buying Y. \\n'"
      ]
     },
     "execution_count": 49,
     "metadata": {},
     "output_type": "execute_result"
    }
   ],
   "source": [
    "\"\"\"Here we can see that irrespective of the category they have almost \n",
    "equal chances of buying the product Y i.e between 75% to 80%. \n",
    "\n",
    "We can sub-categorise them to reduce the number of categories but there \n",
    "are less chances that this will affect the chances of buying Y. \n",
    "\"\"\""
   ]
  },
  {
   "cell_type": "code",
   "execution_count": 50,
   "metadata": {},
   "outputs": [
    {
     "data": {
      "text/plain": [
       "<matplotlib.axes._subplots.AxesSubplot at 0x1a2e5f5550>"
      ]
     },
     "execution_count": 50,
     "metadata": {},
     "output_type": "execute_result"
    },
    {
     "data": {
      "image/png": "[encoded data removed]",
      "text/plain": [
       "<Figure size 432x288 with 1 Axes>"
      ]
     },
     "metadata": {
      "needs_background": "light"
     },
     "output_type": "display_data"
    }
   ],
   "source": [
    "F22= pd.crosstab(df['F22'], df['C'])\n",
    "F22.div(F22.sum(1), axis=0).plot(kind='bar', stacked=True)"
   ]
  },
  {
   "cell_type": "code",
   "execution_count": 51,
   "metadata": {},
   "outputs": [
    {
     "data": {
      "text/plain": [
       "'Same behavious as shown by F22\\n'"
      ]
     },
     "execution_count": 51,
     "metadata": {},
     "output_type": "execute_result"
    }
   ],
   "source": [
    "\"\"\"Same behavious as shown by F22\n",
    "\"\"\""
   ]
  },
  {
   "cell_type": "code",
   "execution_count": 72,
   "metadata": {},
   "outputs": [
    {
     "data": {
      "image/png": "[encoded data removed]",
      "text/plain": [
       "<Figure size 1080x576 with 4 Axes>"
      ]
     },
     "metadata": {
      "needs_background": "light"
     },
     "output_type": "display_data"
    }
   ],
   "source": [
    "plt.figure(figsize= (15,8))\n",
    "plt.subplot(221) \n",
    "df.groupby('C')['F1'].mean().plot.bar(title= \"F1\")\n",
    "plt.subplot(222) \n",
    "df.groupby('C')['F2'].mean().plot.bar()\n",
    "plt.subplot(223) \n",
    "df.groupby('C')['F3'].mean().plot.bar() \n",
    "plt.subplot(224) \n",
    "df.groupby('C')['F4'].mean().plot.bar() \n",
    "plt.show()"
   ]
  },
  {
   "cell_type": "code",
   "execution_count": 53,
   "metadata": {},
   "outputs": [
    {
     "data": {
      "text/plain": [
       "'They have almost similar mean for either cases\\nhence it can be inferred that the columns F1, F2, F3, F4 does not really\\naffect the probablity of buying Y'"
      ]
     },
     "execution_count": 53,
     "metadata": {},
     "output_type": "execute_result"
    }
   ],
   "source": [
    "\"\"\"They have almost similar mean for either cases\n",
    "hence it can be inferred that the columns F1, F2, F3, F4 does not really\n",
    "affect the probablity of buying Y\"\"\""
   ]
  },
  {
   "cell_type": "code",
   "execution_count": 73,
   "metadata": {},
   "outputs": [
    {
     "data": {
      "image/png": "[encoded data removed]",
      "text/plain": [
       "<Figure size 1080x576 with 4 Axes>"
      ]
     },
     "metadata": {
      "needs_background": "light"
     },
     "output_type": "display_data"
    }
   ],
   "source": [
    "plt.figure(figsize= (15,8))\n",
    "plt.subplot(221) \n",
    "df.groupby('C')['F10'].mean().plot.bar(title= \"F10\")\n",
    "plt.subplot(222) \n",
    "df.groupby('C')['F11'].mean().plot.bar(title= \"F11\")\n",
    "plt.subplot(223) \n",
    "df.groupby('C')['F12'].mean().plot.bar(title= \"F12\") \n",
    "plt.subplot(224) \n",
    "df.groupby('C')['F13'].mean().plot.bar(title= \"F13\") \n",
    "plt.show()"
   ]
  },
  {
   "cell_type": "code",
   "execution_count": 55,
   "metadata": {},
   "outputs": [
    {
     "data": {
      "text/plain": [
       "'\\nHere we can see that,\\n\\nIn column F10: buyers have high positive mean value in that category .\\nIn column F11: buyers have lower average value in that category.\\nIn column f12: Buyers have negative mean value. \\nIn column F13: Buyers have negative mean values. \\n\\nHence these columns can be important for classifier prediction. \\nWe can possibily look into detail and even sub categorise them depending \\nupon the nature of the column. \\n'"
      ]
     },
     "execution_count": 55,
     "metadata": {},
     "output_type": "execute_result"
    }
   ],
   "source": [
    "\"\"\"\n",
    "Here we can see that,\n",
    "\n",
    "In column F10: buyers have high positive mean value in that category .\n",
    "In column F11: buyers have lower average value in that category.\n",
    "In column f12: Buyers have negative mean value. \n",
    "In column F13: Buyers have negative mean values. \n",
    "\n",
    "Hence these columns can be important for classifier prediction. \n",
    "We can possibily look into detail and even sub categorise them depending \n",
    "upon the nature of the column. \n",
    "\"\"\""
   ]
  },
  {
   "cell_type": "code",
   "execution_count": 56,
   "metadata": {},
   "outputs": [
    {
     "data": {
      "text/plain": [
       "<matplotlib.axes._subplots.AxesSubplot at 0x1a2e5d26a0>"
      ]
     },
     "execution_count": 56,
     "metadata": {},
     "output_type": "execute_result"
    },
    {
     "data": {
      "image/png": "[encoded data removed]",
      "text/plain": [
       "<Figure size 432x288 with 1 Axes>"
      ]
     },
     "metadata": {
      "needs_background": "light"
     },
     "output_type": "display_data"
    }
   ],
   "source": [
    "df.groupby('C')['F14'].mean().plot.bar(title= \"F10\")"
   ]
  },
  {
   "cell_type": "code",
   "execution_count": 57,
   "metadata": {},
   "outputs": [
    {
     "data": {
      "text/plain": [
       "'This column is showing similar behaviour as column F11'"
      ]
     },
     "execution_count": 57,
     "metadata": {},
     "output_type": "execute_result"
    }
   ],
   "source": [
    "\"\"\"This column is showing similar behaviour as column F11\"\"\""
   ]
  },
  {
   "cell_type": "code",
   "execution_count": 58,
   "metadata": {},
   "outputs": [
    {
     "data": {
      "text/plain": [
       "\"Now for large number of categorica variables as shown in column \\nF5, f6, F7, F8, F9: we can encode it with one of our contineous variable\\nwhose value mainly lie between[-1 and +1] with command :\\ndf['A_encoded'] = df.groupby('A')['B'].mean()\\n\\nand for scenarios like in case of F19, F20 we can use our label class, \\nwhere we can replace it with the probabilty of buying. \\n\""
      ]
     },
     "execution_count": 58,
     "metadata": {},
     "output_type": "execute_result"
    }
   ],
   "source": [
    "\"\"\"Now for large number of categorica variables as shown in column \n",
    "F5, f6, F7, F8, F9: we can encode it with one of our contineous variable\n",
    "whose value mainly lie between[-1 and +1] with command :\n",
    "df['A_encoded'] = df.groupby('A')['B'].mean()\n",
    "\n",
    "and for scenarios like in case of F19, F20 we can use our label class, \n",
    "where we can replace it with the probabilty of buying. \n",
    "\"\"\""
   ]
  },
  {
   "cell_type": "code",
   "execution_count": 59,
   "metadata": {},
   "outputs": [
    {
     "data": {
      "text/html": [
       "<div>\n",
       "<style scoped>\n",
       "    .dataframe tbody tr th:only-of-type {\n",
       "        vertical-align: middle;\n",
       "    }\n",
       "\n",
       "    .dataframe tbody tr th {\n",
       "        vertical-align: top;\n",
       "    }\n",
       "\n",
       "    .dataframe thead th {\n",
       "        text-align: right;\n",
       "    }\n",
       "</style>\n",
       "<table border=\"1\" class=\"dataframe\">\n",
       "  <thead>\n",
       "    <tr style=\"text-align: right;\">\n",
       "      <th></th>\n",
       "      <th>F1</th>\n",
       "      <th>F2</th>\n",
       "      <th>F3</th>\n",
       "      <th>F4</th>\n",
       "      <th>F10</th>\n",
       "      <th>F11</th>\n",
       "      <th>F12</th>\n",
       "      <th>F13</th>\n",
       "      <th>F14</th>\n",
       "    </tr>\n",
       "    <tr>\n",
       "      <th>0</th>\n",
       "      <th></th>\n",
       "      <th></th>\n",
       "      <th></th>\n",
       "      <th></th>\n",
       "      <th></th>\n",
       "      <th></th>\n",
       "      <th></th>\n",
       "      <th></th>\n",
       "      <th></th>\n",
       "    </tr>\n",
       "  </thead>\n",
       "  <tbody>\n",
       "    <tr>\n",
       "      <th>F1</th>\n",
       "      <td>1.000000</td>\n",
       "      <td>0.004133</td>\n",
       "      <td>-0.000362</td>\n",
       "      <td>-0.000068</td>\n",
       "      <td>-0.000542</td>\n",
       "      <td>0.000370</td>\n",
       "      <td>-0.000173</td>\n",
       "      <td>-0.001954</td>\n",
       "      <td>-0.000280</td>\n",
       "    </tr>\n",
       "    <tr>\n",
       "      <th>F2</th>\n",
       "      <td>0.004133</td>\n",
       "      <td>1.000000</td>\n",
       "      <td>0.002162</td>\n",
       "      <td>-0.002540</td>\n",
       "      <td>0.003328</td>\n",
       "      <td>0.003369</td>\n",
       "      <td>0.000495</td>\n",
       "      <td>-0.000195</td>\n",
       "      <td>0.003321</td>\n",
       "    </tr>\n",
       "    <tr>\n",
       "      <th>F3</th>\n",
       "      <td>-0.000362</td>\n",
       "      <td>0.002162</td>\n",
       "      <td>1.000000</td>\n",
       "      <td>-0.001951</td>\n",
       "      <td>0.000009</td>\n",
       "      <td>0.000893</td>\n",
       "      <td>0.001373</td>\n",
       "      <td>-0.002150</td>\n",
       "      <td>0.002402</td>\n",
       "    </tr>\n",
       "    <tr>\n",
       "      <th>F4</th>\n",
       "      <td>-0.000068</td>\n",
       "      <td>-0.002540</td>\n",
       "      <td>-0.001951</td>\n",
       "      <td>1.000000</td>\n",
       "      <td>0.001897</td>\n",
       "      <td>-0.003646</td>\n",
       "      <td>0.005809</td>\n",
       "      <td>0.001284</td>\n",
       "      <td>0.001984</td>\n",
       "    </tr>\n",
       "    <tr>\n",
       "      <th>F10</th>\n",
       "      <td>-0.000542</td>\n",
       "      <td>0.003328</td>\n",
       "      <td>0.000009</td>\n",
       "      <td>0.001897</td>\n",
       "      <td>1.000000</td>\n",
       "      <td>0.009194</td>\n",
       "      <td>0.004268</td>\n",
       "      <td>-0.002094</td>\n",
       "      <td>0.000715</td>\n",
       "    </tr>\n",
       "    <tr>\n",
       "      <th>F11</th>\n",
       "      <td>0.000370</td>\n",
       "      <td>0.003369</td>\n",
       "      <td>0.000893</td>\n",
       "      <td>-0.003646</td>\n",
       "      <td>0.009194</td>\n",
       "      <td>1.000000</td>\n",
       "      <td>0.003591</td>\n",
       "      <td>-0.003599</td>\n",
       "      <td>-0.000239</td>\n",
       "    </tr>\n",
       "    <tr>\n",
       "      <th>F12</th>\n",
       "      <td>-0.000173</td>\n",
       "      <td>0.000495</td>\n",
       "      <td>0.001373</td>\n",
       "      <td>0.005809</td>\n",
       "      <td>0.004268</td>\n",
       "      <td>0.003591</td>\n",
       "      <td>1.000000</td>\n",
       "      <td>0.005253</td>\n",
       "      <td>-0.008448</td>\n",
       "    </tr>\n",
       "    <tr>\n",
       "      <th>F13</th>\n",
       "      <td>-0.001954</td>\n",
       "      <td>-0.000195</td>\n",
       "      <td>-0.002150</td>\n",
       "      <td>0.001284</td>\n",
       "      <td>-0.002094</td>\n",
       "      <td>-0.003599</td>\n",
       "      <td>0.005253</td>\n",
       "      <td>1.000000</td>\n",
       "      <td>-0.002161</td>\n",
       "    </tr>\n",
       "    <tr>\n",
       "      <th>F14</th>\n",
       "      <td>-0.000280</td>\n",
       "      <td>0.003321</td>\n",
       "      <td>0.002402</td>\n",
       "      <td>0.001984</td>\n",
       "      <td>0.000715</td>\n",
       "      <td>-0.000239</td>\n",
       "      <td>-0.008448</td>\n",
       "      <td>-0.002161</td>\n",
       "      <td>1.000000</td>\n",
       "    </tr>\n",
       "  </tbody>\n",
       "</table>\n",
       "</div>"
      ],
      "text/plain": [
       "0          F1        F2        F3        F4       F10       F11       F12  \\\n",
       "0                                                                           \n",
       "F1   1.000000  0.004133 -0.000362 -0.000068 -0.000542  0.000370 -0.000173   \n",
       "F2   0.004133  1.000000  0.002162 -0.002540  0.003328  0.003369  0.000495   \n",
       "F3  -0.000362  0.002162  1.000000 -0.001951  0.000009  0.000893  0.001373   \n",
       "F4  -0.000068 -0.002540 -0.001951  1.000000  0.001897 -0.003646  0.005809   \n",
       "F10 -0.000542  0.003328  0.000009  0.001897  1.000000  0.009194  0.004268   \n",
       "F11  0.000370  0.003369  0.000893 -0.003646  0.009194  1.000000  0.003591   \n",
       "F12 -0.000173  0.000495  0.001373  0.005809  0.004268  0.003591  1.000000   \n",
       "F13 -0.001954 -0.000195 -0.002150  0.001284 -0.002094 -0.003599  0.005253   \n",
       "F14 -0.000280  0.003321  0.002402  0.001984  0.000715 -0.000239 -0.008448   \n",
       "\n",
       "0         F13       F14  \n",
       "0                        \n",
       "F1  -0.001954 -0.000280  \n",
       "F2  -0.000195  0.003321  \n",
       "F3  -0.002150  0.002402  \n",
       "F4   0.001284  0.001984  \n",
       "F10 -0.002094  0.000715  \n",
       "F11 -0.003599 -0.000239  \n",
       "F12  0.005253 -0.008448  \n",
       "F13  1.000000 -0.002161  \n",
       "F14 -0.002161  1.000000  "
      ]
     },
     "execution_count": 59,
     "metadata": {},
     "output_type": "execute_result"
    }
   ],
   "source": [
    "matrix= df.corr()\n",
    "matrix"
   ]
  },
  {
   "cell_type": "code",
   "execution_count": 60,
   "metadata": {},
   "outputs": [
    {
     "data": {
      "text/plain": [
       "<matplotlib.axes._subplots.AxesSubplot at 0x1a2bc624e0>"
      ]
     },
     "execution_count": 60,
     "metadata": {},
     "output_type": "execute_result"
    },
    {
     "data": {
      "image/png": "[encoded data removed]",
      "text/plain": [
       "<Figure size 432x288 with 2 Axes>"
      ]
     },
     "metadata": {
      "needs_background": "light"
     },
     "output_type": "display_data"
    }
   ],
   "source": [
    "sns.heatmap(matrix, cmap=\"BuPu\")"
   ]
  },
  {
   "cell_type": "code",
   "execution_count": 61,
   "metadata": {},
   "outputs": [
    {
     "ename": "SyntaxError",
     "evalue": "EOL while scanning string literal (<ipython-input-61-8fa6a2f7ae61>, line 1)",
     "output_type": "error",
     "traceback": [
      "\u001b[0;36m  File \u001b[0;32m\"<ipython-input-61-8fa6a2f7ae61>\"\u001b[0;36m, line \u001b[0;32m1\u001b[0m\n\u001b[0;31m    \"\"\"\"There is hardly any correlation between the independent variables.\"\"\"\"\u001b[0m\n\u001b[0m                                                                              ^\u001b[0m\n\u001b[0;31mSyntaxError\u001b[0m\u001b[0;31m:\u001b[0m EOL while scanning string literal\n"
     ]
    }
   ],
   "source": [
    "\"\"\"\"There is hardly any correlation between the independent variables.\"\"\"\""
   ]
  },
  {
   "cell_type": "code",
   "execution_count": 62,
   "metadata": {},
   "outputs": [
    {
     "data": {
      "text/plain": [
       "'model_building'"
      ]
     },
     "execution_count": 62,
     "metadata": {},
     "output_type": "execute_result"
    }
   ],
   "source": [
    "\"\"\"model_building\"\"\""
   ]
  },
  {
   "cell_type": "code",
   "execution_count": 63,
   "metadata": {},
   "outputs": [
    {
     "data": {
      "text/plain": [
       "\"Since it's a binary outcome classification, we can start with \\nLogistic Regression model, use confusion matrix as our\\nevaluation metrix and use K Fold cross validation method data validation\\n\\nWe will also have to scale the data before putting it into model and \\ncreate dummy variables as discussed above. \\n\""
      ]
     },
     "execution_count": 63,
     "metadata": {},
     "output_type": "execute_result"
    }
   ],
   "source": [
    "\"\"\"Since it's a binary outcome classification, we can start with \n",
    "Logistic Regression model, use confusion matrix as our\n",
    "evaluation metrix and use K Fold cross validation method data validation\n",
    "\n",
    "We will also have to scale the data before putting it into model and \n",
    "create dummy variables as discussed above. \n",
    "\"\"\""
   ]
  }
 ],
 "metadata": {
  "kernelspec": {
   "display_name": "Python 3",
   "language": "python",
   "name": "python3"
  },
  "language_info": {
   "codemirror_mode": {
    "name": "ipython",
    "version": 3
   },
   "file_extension": ".py",
   "mimetype": "text/x-python",
   "name": "python",
   "nbconvert_exporter": "python",
   "pygments_lexer": "ipython3",
   "version": "3.7.1"
  }
 },
 "nbformat": 4,
 "nbformat_minor": 2
}
